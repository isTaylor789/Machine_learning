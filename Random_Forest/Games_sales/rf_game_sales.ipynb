{
 "cells": [
  {
   "cell_type": "markdown",
   "id": "074dc0e8-b2fb-45a2-b5eb-916a840907d0",
   "metadata": {},
   "source": [
    "# 1. División del Dataset\n",
    "\n",
    "## Evaluación Inicial del Dataset\n",
    "\n",
    "Luego de analizar el dataset y reducirlo a 5,123 ejemplos, surge la necesidad de realizar un etiquetado inicial para distinguir entre juegos \"relevantes\" y \"no relevantes\". Este proceso es clave para establecer una clasificación inicial y simplificar el análisis posterior. Para lograrlo, se consideran diferentes enfoques:\n",
    "\n",
    "1. **Heurísticas** basadas en reglas de negocio.\n",
    "2. **Análisis financiero** utilizando datos históricos de ingresos.\n",
    "3. **Métodos estadísticos**, como percentiles.\n",
    "\n",
    "### Enfoque Elegido: Percentiles\n",
    "Se seleccionó el uso de percentiles debido a las características del conjunto de datos observadas previamente:\n",
    "\n",
    "- Existe una alta concentración de juegos con ventas totales bajas (alrededor de 1 millón o menos).\n",
    "- Los juegos con ventas significativamente altas (varios millones) son escasos.\n",
    "\n",
    "Con base en estas observaciones, se implementará la siguiente estrategia de categorización:\n",
    "\n",
    "- **90%** de los juegos se etiquetarán como \"Irrelevantes\", dada su baja contribución en ventas totales.\n",
    "- Cerca del **10%** restante se considerará \"Relevante\".\n",
    "- Dentro de este 10%, los primeros **100 juegos** con mayores ventas se clasificarán como \"Muy Relevantes\", a modo de un *top* de juegos más exitosos.\n",
    "\n",
    "Este enfoque es práctico y fácil de implementar, aunque no es perfecto. No incorpora directamente la viabilidad del proyecto o factores como costos y márgenes de beneficio. Sin embargo, al centrarse en las ventas totales como principal métrica, se justifica su elección por ser:\n",
    "\n",
    "- Intuitivo para visualizar.\n",
    "- Fácil de comunicar a otros.\n",
    "- Razonable dentro del contexto de este análisis.\n",
    "\n",
    "---\n",
    "\n",
    "## Preparación del Conjunto de Entrenamiento y Pruebas\n",
    "\n",
    "Una vez categorizados los datos, se procede a dividir el conjunto en proporciones estándar para garantizar un entrenamiento adecuado del modelo y una evaluación confiable de su desempeño:\n",
    "\n",
    "1. **80% del dataset** se destina al entrenamiento del modelo. Esto asegura suficiente información para que el modelo aprenda las características relevantes.\n",
    "2. **20% del dataset** se reserva para pruebas y métricas, evaluando así la capacidad del modelo de generalizar a datos no vistos.\n",
    "\n",
    "### Justificación de la División\n",
    "\n",
    "Esta proporción es ampliamente aceptada en proyectos de *machine learning* debido a que:\n",
    "\n",
    "- Permite un balance entre datos para entrenamiento y evaluación.\n",
    "- Proporciona un conjunto de pruebas lo suficientemente grande para obtener métricas significativas.\n",
    "\n"
   ]
  },
  {
   "cell_type": "code",
   "execution_count": 15,
   "id": "871f3e90-28e2-4c55-b311-6326740c9aef",
   "metadata": {},
   "outputs": [],
   "source": [
    "import pandas as pd"
   ]
  },
  {
   "cell_type": "code",
   "execution_count": 16,
   "id": "4399e413-d572-4da5-b35f-f5ed4cc8cdc3",
   "metadata": {},
   "outputs": [],
   "source": [
    "# Cargar el dataset modificado\n",
    "file_path = './datasets/game_sales.csv'  # Ruta al archivo\n",
    "game_sales = pd.read_csv(file_path)"
   ]
  },
  {
   "cell_type": "code",
   "execution_count": 17,
   "id": "882b899b-ad8a-42fb-a894-7c62e5087d27",
   "metadata": {},
   "outputs": [
    {
     "name": "stdout",
     "output_type": "stream",
     "text": [
      "category\n",
      "Irrelevante      4613\n",
      "Relevante         411\n",
      "Muy Relevante      99\n",
      "Name: count, dtype: int64\n"
     ]
    }
   ],
   "source": [
    "# Ordenar el dataset por ventas totales\n",
    "game_sales = game_sales.sort_values(by='total_sales', ascending=False).reset_index(drop=True)\n",
    "\n",
    "# Calcular umbrales\n",
    "percentile_90 = game_sales['total_sales'].quantile(0.9)\n",
    "top_100_sales = game_sales.iloc[99]['total_sales']  # Ventas del juego en la posición 100\n",
    "\n",
    "# Asignar etiquetas\n",
    "def categorize_sales(row):\n",
    "    if row['total_sales'] > top_100_sales:\n",
    "        return 'Muy Relevante'\n",
    "    elif row['total_sales'] > percentile_90:\n",
    "        return 'Relevante'\n",
    "    else:\n",
    "        return 'Irrelevante'\n",
    "\n",
    "game_sales['category'] = game_sales.apply(categorize_sales, axis=1)\n",
    "\n",
    "# Verificar distribución\n",
    "print(game_sales['category'].value_counts())\n",
    "\n",
    "# Guardar el dataset con categorías\n",
    "game_sales.to_csv('./datasets/game_sales_categorized.csv', index=False)"
   ]
  },
  {
   "cell_type": "code",
   "execution_count": 18,
   "id": "9ce5c443-788f-4402-b87f-c27972120ee2",
   "metadata": {},
   "outputs": [
    {
     "name": "stdout",
     "output_type": "stream",
     "text": [
      "                 min     max       mean  median        std\n",
      "category                                                  \n",
      "Irrelevante     0.01    2.42   0.380106    0.17   0.495418\n",
      "Muy Relevante  11.24  252.87  28.961010   17.31  34.859713\n",
      "Relevante       2.43   11.10   4.830511    4.22   2.066012\n"
     ]
    }
   ],
   "source": [
    "# Obtener estadísticos por categoría\n",
    "ranges_by_category = game_sales.groupby('category')['total_sales'].agg(['min', 'max', 'mean', 'median', 'std'])\n",
    "\n",
    "print(ranges_by_category)"
   ]
  },
  {
   "cell_type": "code",
   "execution_count": 19,
   "id": "97b54ce1-7864-4544-8a89-4fb798e7c402",
   "metadata": {},
   "outputs": [
    {
     "name": "stdout",
     "output_type": "stream",
     "text": [
      "<class 'pandas.core.frame.DataFrame'>\n",
      "RangeIndex: 5123 entries, 0 to 5122\n",
      "Data columns (total 5 columns):\n",
      " #   Column       Non-Null Count  Dtype  \n",
      "---  ------       --------------  -----  \n",
      " 0   title        5123 non-null   object \n",
      " 1   genre        5123 non-null   object \n",
      " 2   developer    5123 non-null   object \n",
      " 3   total_sales  5123 non-null   float64\n",
      " 4   category     5123 non-null   object \n",
      "dtypes: float64(1), object(4)\n",
      "memory usage: 200.2+ KB\n"
     ]
    }
   ],
   "source": [
    "game_sales.info()"
   ]
  },
  {
   "cell_type": "code",
   "execution_count": 20,
   "id": "4a6c38e3-bdf9-4478-af4c-b15fc30cac4f",
   "metadata": {},
   "outputs": [],
   "source": [
    "# Cargar el dataset modificado\n",
    "file_path = './datasets/game_sales_categorized.csv'  # Ruta al archivo\n",
    "game_sales = pd.read_csv(file_path)"
   ]
  },
  {
   "cell_type": "code",
   "execution_count": 21,
   "id": "722c2755-d441-461a-b3c5-2bdf4eee7c86",
   "metadata": {},
   "outputs": [
    {
     "name": "stdout",
     "output_type": "stream",
     "text": [
      "<class 'pandas.core.frame.DataFrame'>\n",
      "RangeIndex: 5123 entries, 0 to 5122\n",
      "Data columns (total 5 columns):\n",
      " #   Column       Non-Null Count  Dtype  \n",
      "---  ------       --------------  -----  \n",
      " 0   title        5123 non-null   object \n",
      " 1   genre        5123 non-null   object \n",
      " 2   developer    5123 non-null   object \n",
      " 3   total_sales  5123 non-null   float64\n",
      " 4   category     5123 non-null   object \n",
      "dtypes: float64(1), object(4)\n",
      "memory usage: 200.2+ KB\n"
     ]
    }
   ],
   "source": [
    "game_sales.info()"
   ]
  },
  {
   "cell_type": "code",
   "execution_count": 22,
   "id": "c46bce35-dd1e-4519-8d9d-04c82d221354",
   "metadata": {},
   "outputs": [
    {
     "name": "stdout",
     "output_type": "stream",
     "text": [
      "   title_tokenized  genre_encoded  developer_encoded  total_sales  \\\n",
      "0         0.033333       0.566667           1.377800       252.87   \n",
      "1         0.066667       0.566667           0.509514       166.39   \n",
      "2         0.133333       0.500000           0.750950       128.08   \n",
      "3         0.100000       0.500000           2.379400       118.97   \n",
      "4         0.033333       0.000000           1.169100       110.96   \n",
      "\n",
      "   category_encoded  \n",
      "0               2.0  \n",
      "1               2.0  \n",
      "2               2.0  \n",
      "3               2.0  \n",
      "4               2.0  \n"
     ]
    }
   ],
   "source": [
    "from sklearn.preprocessing import OrdinalEncoder\n",
    "\n",
    "# 1. Tokenización simple para title y escalado\n",
    "game_sales['title_tokenized'] = game_sales['title'].str.split().str.len() / 30\n",
    "\n",
    "# 2. Ordinal Encoding para genre y escalado\n",
    "ordinal_encoder_genre = OrdinalEncoder()\n",
    "game_sales['genre_encoded'] = ordinal_encoder_genre.fit_transform(game_sales[['genre']]) / 30\n",
    "\n",
    "# 3. Target Encoding para developer y escalado\n",
    "developer_sales_mean = game_sales.groupby('developer')['total_sales'].mean()\n",
    "game_sales['developer_encoded'] = game_sales['developer'].map(developer_sales_mean) / 50\n",
    "\n",
    "# 4. Ordinal Encoding para category\n",
    "category_order = ['Irrelevante', 'Relevante', 'Muy Relevante']\n",
    "ordinal_encoder_category = OrdinalEncoder(categories=[category_order])\n",
    "game_sales['category_encoded'] = ordinal_encoder_category.fit_transform(game_sales[['category']])\n",
    "\n",
    "# Seleccionar las columnas procesadas para el modelo\n",
    "pre_dataset = game_sales[['title_tokenized', 'genre_encoded', 'developer_encoded', 'total_sales', 'category_encoded']]\n",
    "\n",
    "# Ver el nuevo dataset\n",
    "print(pre_dataset.head())\n"
   ]
  },
  {
   "cell_type": "code",
   "execution_count": 23,
   "id": "539ca051-8190-465a-ab42-e476a6eee589",
   "metadata": {},
   "outputs": [
    {
     "name": "stdout",
     "output_type": "stream",
     "text": [
      "Distribución en el conjunto de entrenamiento:\n",
      "category_encoded\n",
      "0.0    0.900439\n",
      "1.0    0.080283\n",
      "2.0    0.019278\n",
      "Name: proportion, dtype: float64\n",
      "\n",
      "Distribución en el conjunto de prueba:\n",
      "category_encoded\n",
      "0.0    0.900488\n",
      "1.0    0.080000\n",
      "2.0    0.019512\n",
      "Name: proportion, dtype: float64\n"
     ]
    }
   ],
   "source": [
    "from sklearn.model_selection import train_test_split\n",
    "\n",
    "# Seleccionar las columnas necesarias para X e y\n",
    "X = pre_dataset[['title_tokenized', 'genre_encoded', 'developer_encoded', 'total_sales']]\n",
    "y = pre_dataset['category_encoded']\n",
    "\n",
    "# Dividir el dataset en entrenamiento (80%) y prueba (20%) estratificado por la categoría\n",
    "X_train, X_test, y_train, y_test = train_test_split(\n",
    "    X, y, test_size=0.2, random_state=42, stratify=y\n",
    ")\n",
    "\n",
    "# Verificar las distribuciones en los conjuntos\n",
    "print(\"Distribución en el conjunto de entrenamiento:\")\n",
    "print(y_train.value_counts(normalize=True))\n",
    "print(\"\\nDistribución en el conjunto de prueba:\")\n",
    "print(y_test.value_counts(normalize=True))\n",
    "\n",
    "# Opcional: Guardar los conjuntos divididos\n",
    "# X_train.to_csv('./datasets/X_train.csv', index=False)\n",
    "# X_test.to_csv('./datasets/X_test.csv', index=False)\n",
    "# y_train.to_csv('./datasets/y_train.csv', index=False)\n",
    "# y_test.to_csv('./datasets/y_test.csv', index=False)\n"
   ]
  },
  {
   "cell_type": "markdown",
   "id": "4985f9e8-3951-4af9-bb7b-79b286ab5d5e",
   "metadata": {},
   "source": [
    "<h1>Entrenamiento</h1>\n",
    "\n",
    "## Configuración del Modelo Random Forest\n",
    "\n",
    "Para entrenar el modelo, utilizaremos el algoritmo **Random Forest** debido a su capacidad para manejar datos mixtos (categóricos y numéricos), su robustez frente al ruido y su habilidad para evitar el sobreajuste al combinar múltiples árboles de decisión. La configuración del modelo incluye los siguientes parámetros clave:\n",
    "\n",
    "- **n_estimators = 100**: \n",
    "  Se entrenarán 100 árboles independientes para buscar el conjunto de decisiones que mejor clasifique los datos. Este valor proporciona un buen equilibrio entre rendimiento y eficiencia computacional.\n",
    "\n",
    "- **max_depth = 20**: \n",
    "  Los árboles tendrán un máximo de 20 niveles de profundidad. Este límite controla la complejidad de los árboles, ayudando a prevenir el sobreajuste al evitar que los árboles aprendan patrones excesivamente específicos del conjunto de entrenamiento.\n",
    "\n",
    "- **random_state = 42**:\n",
    "  Fija una semilla para garantizar la reproducibilidad de los resultados. Es útil para comparar diferentes configuraciones o modelos sin que los resultados varíen debido a la aleatoriedad inherente.\n",
    "\n",
    "- **class_weight = 'balanced'**:\n",
    "  Este parámetro ajusta automáticamente el peso de las clases en función de su frecuencia en los datos. Al tratar con clases desbalanceadas (como en este caso, donde la mayoría de los juegos son \"Irrelevantes\"), esta configuración permite al modelo dar más importancia a las clases minoritarias y mejorar la capacidad de predicción en estas.\n",
    "\n",
    "- **criterion = 'gini'**:\n",
    "  El criterio de Gini se utiliza para medir la calidad de una división dentro de los árboles. Este criterio calcula la *impureza de Gini*, que indica cuán mezcladas están las clases dentro de un nodo. El objetivo del modelo es minimizar la impureza al dividir los datos, favoreciendo divisiones que produzcan nodos \"puros\" (es decir, que contengan principalmente ejemplos de una sola clase). Esto ayuda a generar reglas de decisión más precisas.\n",
    "\n",
    "---\n",
    "\n",
    "## Observaciones\n",
    "\n",
    "Es importante tener en cuenta que el parámetro `class_weight` también puede introducir algo de ruido en los árboles al modificar el peso de las clases durante el entrenamiento. Además, al asignar una gran importancia a la característica de ventas totales, el modelo podría generar límites de decisión numéricos estrictos. Sin embargo, con un número adecuado de árboles (`n_estimators`) y un control de la profundidad (`max_depth`), esperamos que el modelo maneje este desafío de manera efectiva.\n",
    "\n"
   ]
  },
  {
   "cell_type": "code",
   "execution_count": 24,
   "id": "32c08863-7031-43f1-b5c5-a77b8a7161f3",
   "metadata": {},
   "outputs": [],
   "source": [
    "from sklearn.ensemble import RandomForestClassifier\n",
    "from sklearn.metrics import accuracy_score, classification_report, ConfusionMatrixDisplay\n",
    "\n",
    "# Entrenamiento del modelo Random Forest\n",
    "rf_model = RandomForestClassifier(\n",
    "    n_estimators=100,  # Número de árboles en el bosque\n",
    "    max_depth=20,  # Profundidad máxima de los árboles\n",
    "    random_state=42,  # Para reproducibilidad\n",
    "    class_weight='balanced',  # Manejar desbalanceo de clases\n",
    "    criterion='gini'  # Criterio de división\n",
    ")\n",
    "\n",
    "# Entrenar el modelo con el conjunto de entrenamiento\n",
    "rf_model.fit(X_train, y_train)\n",
    "\n",
    "# Predicciones en el conjunto de prueba\n",
    "y_pred = rf_model.predict(X_test)\n"
   ]
  },
  {
   "cell_type": "markdown",
   "id": "7b33c9af-c441-4d84-beb5-de87c3c2027b",
   "metadata": {},
   "source": [
    "<h2>Evaluacion</h2>"
   ]
  },
  {
   "cell_type": "code",
   "execution_count": 25,
   "id": "6513de9e-aa31-45b6-a112-ff315e12f7a8",
   "metadata": {},
   "outputs": [
    {
     "name": "stdout",
     "output_type": "stream",
     "text": [
      "Precisión del modelo: 1.00\n"
     ]
    }
   ],
   "source": [
    "# Evaluación inicial\n",
    "accuracy = accuracy_score(y_test, y_pred)\n",
    "print(f\"Precisión del modelo: {accuracy:.2f}\")"
   ]
  },
  {
   "cell_type": "code",
   "execution_count": 26,
   "id": "75942fb9-a125-4d1a-8c09-5fd9638e21f2",
   "metadata": {},
   "outputs": [
    {
     "name": "stdout",
     "output_type": "stream",
     "text": [
      "\n",
      "Informe de clasificación:\n",
      "               precision    recall  f1-score   support\n",
      "\n",
      "  Irrelevante       1.00      1.00      1.00       923\n",
      "    Relevante       1.00      1.00      1.00        82\n",
      "Muy Relevante       1.00      1.00      1.00        20\n",
      "\n",
      "     accuracy                           1.00      1025\n",
      "    macro avg       1.00      1.00      1.00      1025\n",
      " weighted avg       1.00      1.00      1.00      1025\n",
      "\n"
     ]
    }
   ],
   "source": [
    "# Informe de clasificación\n",
    "print(\"\\nInforme de clasificación:\")\n",
    "print(classification_report(y_test, y_pred, target_names=['Irrelevante', 'Relevante', 'Muy Relevante']))"
   ]
  },
  {
   "cell_type": "code",
   "execution_count": 27,
   "id": "0182d9f3-b02e-460a-bea5-cd556845f915",
   "metadata": {},
   "outputs": [
    {
     "name": "stdout",
     "output_type": "stream",
     "text": [
      "\n",
      "Importancia de las características:\n",
      "title_tokenized: 0.0146\n",
      "genre_encoded: 0.0032\n",
      "developer_encoded: 0.2472\n",
      "total_sales: 0.7349\n"
     ]
    }
   ],
   "source": [
    "# Mostrar la importancia de las características\n",
    "feature_importances = rf_model.feature_importances_\n",
    "features = X_train.columns\n",
    "print(\"\\nImportancia de las características:\")\n",
    "for feature, importance in zip(features, feature_importances):\n",
    "    print(f\"{feature}: {importance:.4f}\")"
   ]
  },
  {
   "cell_type": "code",
   "execution_count": 28,
   "id": "85531899-a91a-49ad-9939-1524e4b4b340",
   "metadata": {},
   "outputs": [
    {
     "data": {
      "text/plain": [
       "<sklearn.metrics._plot.confusion_matrix.ConfusionMatrixDisplay at 0x7e5ba1e53d40>"
      ]
     },
     "execution_count": 28,
     "metadata": {},
     "output_type": "execute_result"
    },
    {
     "data": {
      "image/png": "[encoded data removed]",
      "text/plain": [
       "<Figure size 640x480 with 2 Axes>"
      ]
     },
     "metadata": {},
     "output_type": "display_data"
    }
   ],
   "source": [
    "# Matriz de confusión\n",
    "ConfusionMatrixDisplay.from_estimator(rf_model, X_test, y_test, display_labels=['Irrelevante', 'Relevante', 'Muy Relevante'])"
   ]
  },
  {
   "cell_type": "markdown",
   "id": "81df10cb-7e38-45d0-862b-9cdf9064c310",
   "metadata": {},
   "source": [
    "## Resultados Iniciales\n",
    "\n",
    "Tras evaluar el modelo **Random Forest**, obtenemos las siguientes métricas clave:\n",
    "\n",
    "### Precisión General del Modelo\n",
    "La precisión general es del **100%**, lo que indica que el modelo clasifica correctamente todos los ejemplos en el conjunto de prueba.\n",
    "\n",
    "### Informe de Clasificación\n",
    "El informe de clasificación desglosa el rendimiento por categoría:\n",
    "\n",
    "| Categoría        | Precisión | Recall | F1-Score | Soporte |\n",
    "|------------------|-----------|--------|----------|---------|\n",
    "| **Irrelevante**  | 1.00      | 1.00   | 1.00     | 923     |\n",
    "| **Relevante**    | 1.00      | 1.00   | 1.00     | 82      |\n",
    "| **Muy Relevante**| 1.00      | 1.00   | 1.00     | 20      |\n",
    "| **Promedio Macro**| 1.00      | 1.00   | 1.00     | 1025    |\n",
    "| **Promedio Ponderado**| 1.00      | 1.00   | 1.00     | 1025    |\n",
    "\n",
    "El modelo muestra un rendimiento excepcional en todas las métricas y clases, lo que a primera vista podría indicar que generaliza bien. Sin embargo, esta alta precisión podría deberse a características inherentes de los datos más que a un rendimiento sobresaliente del modelo.\n",
    "\n",
    "---\n",
    "\n",
    "## Importancia de las Características\n",
    "\n",
    "La importancia de las características, determinada por el modelo, muestra lo siguiente:\n",
    "\n",
    "| Característica       | Importancia (%) |\n",
    "|----------------------|-----------------|\n",
    "| **title_tokenized**  | 1.46%          |\n",
    "| **genre_encoded**    | 0.32%          |\n",
    "| **developer_encoded**| 24.72%         |\n",
    "| **total_sales**      | 73.49%         |\n",
    "\n",
    "Es evidente que la característica **`total_sales`** domina el proceso de decisión, representando el **73.49% de la importancia total**. Esto sugiere que los árboles de decisión en el modelo están aprendiendo límites numéricos basados principalmente en las ventas totales, con menor peso para las variables categóricas.\n",
    "\n",
    "---\n",
    "\n",
    "## Discusión y Observaciones\n",
    "\n",
    "1. **Relación entre los Datos y la Generalización**:\n",
    "   - La alta precisión podría deberse a la estructura del conjunto de datos:\n",
    "     - Un **90% de los ejemplos pertenecen a la categoría \"Irrelevante\"**.\n",
    "     - Al clasificar la mayoría de los ejemplos como irrelevantes y confiar en los valores numéricos de `total_sales`, el modelo puede establecer límites de decisión efectivos para las otras dos categorías.\n",
    "\n",
    "2. **Impacto de las Etiquetas y Heurísticas**:\n",
    "   - La técnica de los percentiles utilizada para categorizar los datos permite al modelo generalizar bien, ya que:\n",
    "     - Se cuenta con muchos ejemplos en la clase mayoritaria (\"Irrelevante\").\n",
    "     - Las categorías \"Relevante\" y \"Muy Relevante\" son minoritarias pero están claramente delimitadas por las ventas.\n",
    "\n",
    "3. **Limitaciones del Modelo Actual**:\n",
    "   - **Datos Insuficientes**: Con solo 5,000 ejemplos, el modelo tiene poco margen para aprender límites de decisión más complejos.\n",
    "   - **Clase Minoritaria**: Las clases \"Relevante\" y \"Muy Relevante\" tienen pocos ejemplos, lo que puede limitar la capacidad del modelo para aprender patrones detallados.\n",
    "\n",
    "4. **Propuestas de Mejora**:\n",
    "   - **Aumentar el Conjunto de Datos**: Incorporar más ejemplos con ventas clasificadas en las categorías \"Relevante\" y \"Muy Relevante\".\n",
    "   - **Incluir Nuevas Características**: \n",
    "     - **Críticas de jugadores**: Promedio de calificaciones de jugadores y críticas de prensa.\n",
    "     - **Impacto mediático**: Nivel de exposición mediática de cada videojuego.\n",
    "     - **Jugadores activos**: Datos de usuarios activos durante el período de análisis.\n",
    "     - **Contenido adicional (DLCs)**: Cantidad y éxito de contenido descargable.\n",
    "   - Estas características podrían ayudar a capturar la relevancia de un videojuego desde diferentes perspectivas más allá de las ventas totales.\n",
    "\n",
    "---\n",
    "\n",
    "## Conclusión\n",
    "\n",
    "El modelo demuestra una excelente capacidad para clasificar los datos actuales, principalmente gracias al fuerte peso de la característica numérica `total_sales`. Sin embargo, para garantizar que el modelo funcione bien con nuevos datos o en escenarios más complejos, será necesario incorporar características adicionales y ejemplos más diversos. Este enfoque permitirá desarrollar un límite de decisión más robusto y adaptable a diferentes contextos.\n"
   ]
  }
 ],
 "metadata": {
  "kernelspec": {
   "display_name": "Python 3 (ipykernel)",
   "language": "python",
   "name": "python3"
  },
  "language_info": {
   "codemirror_mode": {
    "name": "ipython",
    "version": 3
   },
   "file_extension": ".py",
   "mimetype": "text/x-python",
   "name": "python",
   "nbconvert_exporter": "python",
   "pygments_lexer": "ipython3",
   "version": "3.12.7"
  }
 },
 "nbformat": 4,
 "nbformat_minor": 5
}
