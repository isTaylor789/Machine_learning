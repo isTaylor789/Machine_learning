{
 "cells": [
  {
   "cell_type": "markdown",
   "id": "8da90e2e-af1d-4790-9a2e-202525e6b311",
   "metadata": {},
   "source": [
    "# 📌 Clasificación de Spam en Correos Electrónicos  \n",
    "\n",
    "Este proyecto implementa un modelo de **Machine Learning** para clasificar correos electrónicos en **Spam** o **Ham (no spam)**, utilizando **Naïve Bayes** con **TF-IDF Vectorizer**.  \n",
    "\n",
    "---\n",
    "\n",
    "## 🔹 1. Preprocesamiento del Dataset  \n",
    "\n",
    "Antes de entrenar el modelo, realizamos una serie de pasos clave para mejorar la calidad y el equilibrio de los datos.  \n",
    "\n",
    "### 📍 División del dataset en clases: Ham y Spam  \n",
    "El dataset contiene dos categorías de correos electrónicos:  \n",
    "\n",
    "- **Ham**: Correos legítimos.  \n",
    "- **Spam**: Correos no deseados o maliciosos.  \n",
    "\n",
    "Dado que la cantidad de correos spam es considerablemente alta, reducimos su muestra a aproximadamente un **tercio** de los datos originales. Esto es fundamental porque el algoritmo que utilizaremos, **TF-IDF Vectorizer**, es sensible a los desequilibrios en la cantidad de datos.  \n",
    "\n",
    "---\n",
    "\n",
    "## 🔹 2. ¿Qué es TF-IDF Vectorizer?  \n",
    "\n",
    "**TF-IDF (Term Frequency-Inverse Document Frequency)** es una técnica utilizada en **Procesamiento de Lenguaje Natural (NLP)** para convertir texto en datos numéricos, permitiendo que los modelos de Machine Learning los interpreten.  \n",
    "\n",
    "El cálculo de **TF-IDF** se basa en:  \n",
    "\n",
    "- **Frecuencia en el documento (TF)**: Cuántas veces aparece una palabra en un correo electrónico.  \n",
    "- **Frecuencia inversa en el corpus (IDF)**: Cuán común es esa palabra en todo el dataset.  \n",
    "\n",
    "Palabras muy frecuentes pero poco relevantes (como \"el\", \"un\", \"de\") reciben un peso bajo, mientras que términos más específicos obtienen un mayor peso.  \n",
    "\n",
    "❗ **Limitación:** TF-IDF **no tiene comprensión semántica**, lo que significa que no \"entiende\" el contexto real de las palabras.  \n",
    "\n",
    "Por ejemplo, si en un correo aparece el mensaje:  \n",
    "\n",
    "> *\"Soy un rey nigeriano que te pide amablemente tu tarjeta de crédito a cambio de una recompensa.\"*  \n",
    "\n",
    "El modelo solo verá un conjunto de palabras y su frecuencia, sin interpretar el posible intento de estafa.  \n",
    "\n",
    "---\n",
    "\n",
    "## 🔹 3. Balanceo del dataset  \n",
    "\n",
    "Para evitar un sesgo en el modelo, realizamos un **balanceo de datos**:  \n",
    "\n",
    "✅ **Reducimos la cantidad de correos Spam**, tomando solo un tercio de los datos originales.  \n",
    "✅ **Mantenemos todos los correos Ham** para asegurar una buena representación de correos legítimos.  \n",
    "✅ **El dataset final contiene aproximadamente 130,000 ejemplos** listos para el entrenamiento.  \n",
    "\n",
    "---\n",
    "\n",
    "## 🔹 4. Elección del Modelo: Naïve Bayes  \n",
    "\n",
    "Para la clasificación de spam, utilizamos **Naïve Bayes**, un algoritmo basado en **probabilidad condicional**.  \n",
    "\n",
    "### 📍 ¿Cómo funciona?  \n",
    "\n",
    "Naïve Bayes calcula la probabilidad de que un correo sea spam dado que contiene ciertas palabras clave. Se basa en la siguiente ecuación de **probabilidad condicional**:  \n",
    "\n",
    "\\[\n",
    "P(A | B) = \\frac{P(B | A) \\cdot P(A)}{P(B)}\n",
    "\\]  \n",
    "\n",
    "Donde:  \n",
    "\n",
    "- \\( P(A | B) \\) es la probabilidad de que el correo sea **spam**, dado que contiene ciertas palabras.  \n",
    "- \\( P(B | A) \\) es la probabilidad de que esas palabras aparezcan en correos **spam**.  \n",
    "- \\( P(A) \\) es la probabilidad de que un correo cualquiera sea **spam** en el dataset.  \n",
    "- \\( P(B) \\) es la probabilidad general de que esas palabras aparezcan en cualquier correo.  \n",
    "\n",
    "Naïve Bayes asume que las palabras son **independientes entre sí**, lo que simplifica el cálculo de probabilidades y permite un procesamiento rápido.  \n",
    "\n",
    "### 📌 ¿Por qué Naïve Bayes?  \n",
    "\n",
    "✔️ **Computacionalmente eficiente** → Funciona bien con grandes volúmenes de datos.  \n",
    "✔️ **Rápido en entrenamiento y predicción** → Ideal para clasificación de texto.  \n",
    "✔️ **Compatible con TF-IDF** → Puede manejar bien representaciones de texto numéricas.  \n",
    "\n",
    "---\n",
    "\n",
    "\n",
    "📌 **Próximos pasos:**  \n",
    "- Probar con otros modelos como **SVM o Redes Neuronales**.  \n",
    "- Implementar **Word Embeddings** para mejorar la comprensión semántica.  \n",
    "- Optimizar el preprocesamiento del texto para mejorar la precisión del modelo.  "
   ]
  },
  {
   "cell_type": "code",
   "execution_count": null,
   "id": "0d7b5c6f-1d39-4057-8404-a9dfa54a5d87",
   "metadata": {},
   "outputs": [],
   "source": [
    "'''\n",
    "Descargar el dataset\n",
    "'''\n",
    "\n",
    "# import kagglehub\n",
    "\n",
    "# # Download latest version\n",
    "# path = kagglehub.dataset_download(\"meruvulikith/190k-spam-ham-email-dataset-for-classification\")\n",
    "\n",
    "# print(\"Path to dataset files:\", path)"
   ]
  },
  {
   "cell_type": "code",
   "execution_count": 4,
   "id": "65b83aed-71ee-4889-9bdb-4ffb329e5eec",
   "metadata": {},
   "outputs": [],
   "source": [
    "from sklearn.feature_extraction.text import TfidfVectorizer\n",
    "from sklearn.model_selection import GridSearchCV\n",
    "from sklearn.naive_bayes import BernoulliNB\n",
    "from html.parser import HTMLParser\n",
    "from sklearn.feature_extraction.text import CountVectorizer\n",
    "from sklearn.metrics import f1_score, make_scorer\n",
    "\n",
    "import seaborn as sn\n",
    "import matplotlib.pyplot as plt\n",
    "import pandas as pd\n",
    "import string\n",
    "import nltk"
   ]
  },
  {
   "cell_type": "code",
   "execution_count": 5,
   "id": "3d0d3a4e-03b8-4a24-98fc-bd5184a0bd79",
   "metadata": {},
   "outputs": [
    {
     "name": "stderr",
     "output_type": "stream",
     "text": [
      "[nltk_data] Downloading package stopwords to /home/mvrick/nltk_data...\n",
      "[nltk_data]   Unzipping corpora/stopwords.zip.\n"
     ]
    },
    {
     "data": {
      "text/plain": [
       "True"
      ]
     },
     "execution_count": 5,
     "metadata": {},
     "output_type": "execute_result"
    }
   ],
   "source": [
    "# Descargar las stopwords de nltk\n",
    "nltk.download('stopwords')"
   ]
  },
  {
   "cell_type": "code",
   "execution_count": 6,
   "id": "333677c3-84fb-491b-b6e4-628e51c1a298",
   "metadata": {},
   "outputs": [],
   "source": [
    "# Cargar el dataset y aplicar preprocesamiento\n",
    "data = pd.read_csv(\"dataset/spam_Emails_data.csv\")\n"
   ]
  },
  {
   "cell_type": "code",
   "execution_count": 7,
   "id": "28c34e50-b7c6-48ac-ab75-69cc6ec3596f",
   "metadata": {},
   "outputs": [
    {
     "name": "stdout",
     "output_type": "stream",
     "text": [
      "label\n",
      "Ham     102160\n",
      "Spam     91692\n",
      "Name: count, dtype: int64\n"
     ]
    }
   ],
   "source": [
    "# Valores nulos\n",
    "print(data['label'].value_counts())\n"
   ]
  },
  {
   "cell_type": "code",
   "execution_count": 8,
   "id": "c5f146a2-3b65-4a11-9e83-c58d6be792d2",
   "metadata": {},
   "outputs": [],
   "source": [
    "# Filtrar valores nulos\n",
    "data = data.dropna(subset=['text'])"
   ]
  },
  {
   "cell_type": "code",
   "execution_count": 9,
   "id": "22aef608-7f3f-45e7-bf67-c677820dbe6b",
   "metadata": {},
   "outputs": [
    {
     "name": "stdout",
     "output_type": "stream",
     "text": [
      "label    0\n",
      "text     0\n",
      "dtype: int64\n"
     ]
    }
   ],
   "source": [
    "print(data.isnull().sum())  # Para ver la cantidad de NaN en cada columna"
   ]
  },
  {
   "cell_type": "code",
   "execution_count": 10,
   "id": "21f849d0-1e2c-4d66-9c00-0c8d8d5d89a7",
   "metadata": {},
   "outputs": [
    {
     "name": "stdout",
     "output_type": "stream",
     "text": [
      "<class 'pandas.core.frame.DataFrame'>\n",
      "Index: 193850 entries, 0 to 193851\n",
      "Data columns (total 2 columns):\n",
      " #   Column  Non-Null Count   Dtype \n",
      "---  ------  --------------   ----- \n",
      " 0   label   193850 non-null  object\n",
      " 1   text    193850 non-null  object\n",
      "dtypes: object(2)\n",
      "memory usage: 4.4+ MB\n"
     ]
    }
   ],
   "source": [
    "data.info()"
   ]
  },
  {
   "cell_type": "code",
   "execution_count": 11,
   "id": "b1427169-c7ba-4a42-94ae-f5b1e69ebc57",
   "metadata": {},
   "outputs": [],
   "source": [
    "#Fraccionar el dataset\n",
    "spam_data = data[data['label'] == 'Spam']\n",
    "ham_data = data[data['label'] == 'Ham']\n"
   ]
  },
  {
   "cell_type": "code",
   "execution_count": 12,
   "id": "af5c5f92-a198-4ff4-96d6-1fe16f7b8a71",
   "metadata": {},
   "outputs": [],
   "source": [
    "# Reducir la muestra de Spam a la tercer parte (por ejemplo, de 90,000 a 30000)\n",
    "spam_data_sample = spam_data.sample(n=int(len(spam_data) * 0.33), random_state=42)\n"
   ]
  },
  {
   "cell_type": "code",
   "execution_count": 13,
   "id": "5c4aeb7c-017b-4503-8c10-a3e2226b3333",
   "metadata": {},
   "outputs": [],
   "source": [
    "# Combinar de nuevo el conjunto de datos balanceado\n",
    "data_balanced = pd.concat([ham_data, spam_data_sample]).sample(frac=1, random_state=42)  # Mezclar aleatoriamente\n"
   ]
  },
  {
   "cell_type": "code",
   "execution_count": 14,
   "id": "6aa97b94-4e83-48f8-b55b-c877b22a0d13",
   "metadata": {},
   "outputs": [],
   "source": [
    "# Clase para eliminar etiquetas HTML\n",
    "class MLStripper(HTMLParser):\n",
    "    def __init__(self):\n",
    "        super().__init__()\n",
    "        self.fed = []\n",
    "\n",
    "    def handle_data(self, d):\n",
    "        self.fed.append(d)\n",
    "\n",
    "    def get_data(self):\n",
    "        return ''.join(self.fed)\n",
    "\n",
    "def strip_tags(html):\n",
    "    s = MLStripper()\n",
    "    s.feed(html)\n",
    "    return s.get_data()"
   ]
  },
  {
   "cell_type": "code",
   "execution_count": 15,
   "id": "31560edb-269a-4150-81e2-b6db61d2c850",
   "metadata": {},
   "outputs": [],
   "source": [
    "# Clase para el preprocesamiento\n",
    "class Parser:\n",
    "    def __init__(self):\n",
    "        self.stemmer = nltk.PorterStemmer()\n",
    "        self.stopwords = set(nltk.corpus.stopwords.words('english'))\n",
    "        self.punctuation = list(string.punctuation)\n",
    "    \n",
    "    def tokenize(self, text):\n",
    "        # Remover signos de puntuación y convertir en minúsculas\n",
    "        for c in self.punctuation:\n",
    "            text = text.replace(c, \"\")\n",
    "        text = text.replace(\"\\t\", \" \").replace(\"\\n\", \" \")\n",
    "        tokens = list(filter(None, text.lower().split(\" \")))\n",
    "        return [self.stemmer.stem(w) for w in tokens if w not in self.stopwords]\n",
    "\n",
    "parser = Parser()"
   ]
  },
  {
   "cell_type": "code",
   "execution_count": 16,
   "id": "f5670391-b672-4c89-8e9c-52a0b8bc8b17",
   "metadata": {},
   "outputs": [],
   "source": [
    "# Preprocesamiento y vectorización\n",
    "data_balanced['processed_text'] = data_balanced['text'].apply(lambda x: \" \".join(parser.tokenize(x)))\n"
   ]
  },
  {
   "cell_type": "code",
   "execution_count": 17,
   "id": "cc0fa07e-e91a-40fe-a20d-d1afb778d1ef",
   "metadata": {},
   "outputs": [],
   "source": [
    "# Vectorización con TF-IDF\n",
    "vectorizer = TfidfVectorizer()\n",
    "X = vectorizer.fit_transform(data_balanced['processed_text'])\n",
    "y = data_balanced['label']"
   ]
  },
  {
   "cell_type": "code",
   "execution_count": 18,
   "id": "57d9d1c5-a783-4fe0-bafd-bb38f180e9e6",
   "metadata": {},
   "outputs": [
    {
     "name": "stdout",
     "output_type": "stream",
     "text": [
      "Tamaño de X_train: (92691, 328693)\n",
      "Tamaño de X_test: (26497, 328693)\n",
      "Tamaño de X_prod: (13229, 328693)\n"
     ]
    }
   ],
   "source": [
    "# División en entrenamiento y prueba\n",
    "from sklearn.model_selection import train_test_split\n",
    "\n",
    "# División en tres conjuntos: entrenamiento (70%), prueba (20%) y producción (10%)\n",
    "X_train, X_temp, y_train, y_temp = train_test_split(X, y, test_size=0.3, random_state=42, stratify=y)\n",
    "X_test, X_prod, y_test, y_prod = train_test_split(X_temp, y_temp, test_size=0.333, random_state=42, stratify=y_temp)\n",
    "\n",
    "print(\"Tamaño de X_train:\", X_train.shape)\n",
    "print(\"Tamaño de X_test:\", X_test.shape)\n",
    "print(\"Tamaño de X_prod:\", X_prod.shape)\n"
   ]
  },
  {
   "cell_type": "markdown",
   "id": "80b856d5-e001-4f48-a4a3-5cea4be81610",
   "metadata": {},
   "source": [
    "## 🚀 Entrenamiento del Modelo  \n",
    "\n",
    "Una vez completado el preprocesamiento del dataset, se procede a entrenar el modelo. En esta fase, se utiliza el algoritmo **Naïve Bayes Bernoulli**, acompañado de **GridSearchCV** para optimizar los hiperparámetros y mejorar el rendimiento del clasificador.  \n",
    "\n",
    "---\n",
    "\n",
    "### 🔹 1. Selección de la Métrica: F1-Score  \n",
    "\n",
    "Dado que el problema de clasificación presenta un **desequilibrio en las clases**, es fundamental elegir una métrica adecuada que no favorezca a la clase mayoritaria. Para esto, se emplea el **F1-Score**, que combina dos métricas clave:  \n",
    "\n",
    "- **Precisión:** Mide cuántos de los correos identificados como spam realmente lo son.  \n",
    "- **Recall:** Indica cuántos de los correos spam fueron detectados correctamente por el modelo.  \n",
    "\n",
    "El **F1-Score** es especialmente útil en este caso, ya que equilibra ambas métricas, evitando que el modelo sea demasiado conservador o demasiado permisivo en la clasificación de spam. Se configura de manera que **'Spam' sea la etiqueta positiva**, asegurando que la evaluación se centre en la correcta detección de correos no deseados.  \n",
    "\n",
    "---\n",
    "\n",
    "### 🔹 2. Ajuste de Hiperparámetros con GridSearchCV  \n",
    "\n",
    "Para mejorar la precisión del modelo, se emplea **GridSearchCV**, una técnica que permite buscar automáticamente la mejor configuración de los hiperparámetros.  \n",
    "\n",
    "El hiperparámetro clave en **Naïve Bayes Bernoulli** es **alpha (𝛼)**, que controla la **suavización de Laplace**. Este parámetro es fundamental, ya que afecta la manera en que el modelo maneja palabras poco frecuentes:  \n",
    "\n",
    "- Valores **muy bajos** de 𝛼 hacen que el modelo sea demasiado sensible a términos raros, lo que puede generar sobreajuste.  \n",
    "- Valores **muy altos** de 𝛼 pueden hacer que el modelo ignore términos relevantes, reduciendo su capacidad de generalización.  \n",
    "\n",
    "Para encontrar el mejor valor de **𝛼**, **GridSearchCV** prueba distintas configuraciones mediante validación cruzada. Esto garantiza que el modelo se entrene con la mejor combinación posible, sin necesidad de realizar ajustes manuales.  \n",
    "\n",
    "---\n",
    "\n",
    "### 🔹 3. Validación Cruzada  \n",
    "\n",
    "El proceso de ajuste de hiperparámetros incluye una técnica de **validación cruzada** con 5 divisiones (**CV=5**). Esto significa que el dataset se divide en cinco partes, entrenando el modelo en cuatro y validándolo en la quinta, de forma rotativa.  \n",
    "\n",
    "Este procedimiento permite evaluar el desempeño del modelo en múltiples subconjuntos de datos, evitando que el resultado dependa demasiado de una única división. Como resultado, el modelo aprende a **generalizar mejor**, reduciendo el riesgo de sobreajuste.  \n",
    "\n",
    "---\n",
    "\n",
    "### 🔹 4. Razones para este Enfoque  \n",
    "\n",
    "- **Uso del F1-Score:** Se elige esta métrica en lugar de precisión o recall por separado, ya que equilibra ambos factores y evita sesgos en la clasificación.  \n",
    "- **Ajuste de 𝛼 con GridSearchCV:** Permite optimizar automáticamente el modelo, evitando la selección manual de hiperparámetros.  \n",
    "- **Validación Cruzada:** Reduce la posibilidad de sobreajuste y mejora la capacidad de generalización del modelo.  \n",
    "\n"
   ]
  },
  {
   "cell_type": "code",
   "execution_count": 19,
   "id": "12c505df-9f64-435a-8b17-2debfedaeea7",
   "metadata": {},
   "outputs": [],
   "source": [
    "# Configurar el f1_score con la etiqueta positiva 'Spam'\n",
    "f1_scorer = make_scorer(f1_score, pos_label='Spam')"
   ]
  },
  {
   "cell_type": "code",
   "execution_count": 20,
   "id": "0b1b5925-0e92-42f6-b3a3-b9a55f40372d",
   "metadata": {},
   "outputs": [
    {
     "data": {
      "text/html": [
       "<style>#sk-container-id-1 {\n",
       "  /* Definition of color scheme common for light and dark mode */\n",
       "  --sklearn-color-text: black;\n",
       "  --sklearn-color-line: gray;\n",
       "  /* Definition of color scheme for unfitted estimators */\n",
       "  --sklearn-color-unfitted-level-0: #fff5e6;\n",
       "  --sklearn-color-unfitted-level-1: #f6e4d2;\n",
       "  --sklearn-color-unfitted-level-2: #ffe0b3;\n",
       "  --sklearn-color-unfitted-level-3: chocolate;\n",
       "  /* Definition of color scheme for fitted estimators */\n",
       "  --sklearn-color-fitted-level-0: #f0f8ff;\n",
       "  --sklearn-color-fitted-level-1: #d4ebff;\n",
       "  --sklearn-color-fitted-level-2: #b3dbfd;\n",
       "  --sklearn-color-fitted-level-3: cornflowerblue;\n",
       "\n",
       "  /* Specific color for light theme */\n",
       "  --sklearn-color-text-on-default-background: var(--sg-text-color, var(--theme-code-foreground, var(--jp-content-font-color1, black)));\n",
       "  --sklearn-color-background: var(--sg-background-color, var(--theme-background, var(--jp-layout-color0, white)));\n",
       "  --sklearn-color-border-box: var(--sg-text-color, var(--theme-code-foreground, var(--jp-content-font-color1, black)));\n",
       "  --sklearn-color-icon: #696969;\n",
       "\n",
       "  @media (prefers-color-scheme: dark) {\n",
       "    /* Redefinition of color scheme for dark theme */\n",
       "    --sklearn-color-text-on-default-background: var(--sg-text-color, var(--theme-code-foreground, var(--jp-content-font-color1, white)));\n",
       "    --sklearn-color-background: var(--sg-background-color, var(--theme-background, var(--jp-layout-color0, #111)));\n",
       "    --sklearn-color-border-box: var(--sg-text-color, var(--theme-code-foreground, var(--jp-content-font-color1, white)));\n",
       "    --sklearn-color-icon: #878787;\n",
       "  }\n",
       "}\n",
       "\n",
       "#sk-container-id-1 {\n",
       "  color: var(--sklearn-color-text);\n",
       "}\n",
       "\n",
       "#sk-container-id-1 pre {\n",
       "  padding: 0;\n",
       "}\n",
       "\n",
       "#sk-container-id-1 input.sk-hidden--visually {\n",
       "  border: 0;\n",
       "  clip: rect(1px 1px 1px 1px);\n",
       "  clip: rect(1px, 1px, 1px, 1px);\n",
       "  height: 1px;\n",
       "  margin: -1px;\n",
       "  overflow: hidden;\n",
       "  padding: 0;\n",
       "  position: absolute;\n",
       "  width: 1px;\n",
       "}\n",
       "\n",
       "#sk-container-id-1 div.sk-dashed-wrapped {\n",
       "  border: 1px dashed var(--sklearn-color-line);\n",
       "  margin: 0 0.4em 0.5em 0.4em;\n",
       "  box-sizing: border-box;\n",
       "  padding-bottom: 0.4em;\n",
       "  background-color: var(--sklearn-color-background);\n",
       "}\n",
       "\n",
       "#sk-container-id-1 div.sk-container {\n",
       "  /* jupyter's `normalize.less` sets `[hidden] { display: none; }`\n",
       "     but bootstrap.min.css set `[hidden] { display: none !important; }`\n",
       "     so we also need the `!important` here to be able to override the\n",
       "     default hidden behavior on the sphinx rendered scikit-learn.org.\n",
       "     See: https://github.com/scikit-learn/scikit-learn/issues/21755 */\n",
       "  display: inline-block !important;\n",
       "  position: relative;\n",
       "}\n",
       "\n",
       "#sk-container-id-1 div.sk-text-repr-fallback {\n",
       "  display: none;\n",
       "}\n",
       "\n",
       "div.sk-parallel-item,\n",
       "div.sk-serial,\n",
       "div.sk-item {\n",
       "  /* draw centered vertical line to link estimators */\n",
       "  background-image: linear-gradient(var(--sklearn-color-text-on-default-background), var(--sklearn-color-text-on-default-background));\n",
       "  background-size: 2px 100%;\n",
       "  background-repeat: no-repeat;\n",
       "  background-position: center center;\n",
       "}\n",
       "\n",
       "/* Parallel-specific style estimator block */\n",
       "\n",
       "#sk-container-id-1 div.sk-parallel-item::after {\n",
       "  content: \"\";\n",
       "  width: 100%;\n",
       "  border-bottom: 2px solid var(--sklearn-color-text-on-default-background);\n",
       "  flex-grow: 1;\n",
       "}\n",
       "\n",
       "#sk-container-id-1 div.sk-parallel {\n",
       "  display: flex;\n",
       "  align-items: stretch;\n",
       "  justify-content: center;\n",
       "  background-color: var(--sklearn-color-background);\n",
       "  position: relative;\n",
       "}\n",
       "\n",
       "#sk-container-id-1 div.sk-parallel-item {\n",
       "  display: flex;\n",
       "  flex-direction: column;\n",
       "}\n",
       "\n",
       "#sk-container-id-1 div.sk-parallel-item:first-child::after {\n",
       "  align-self: flex-end;\n",
       "  width: 50%;\n",
       "}\n",
       "\n",
       "#sk-container-id-1 div.sk-parallel-item:last-child::after {\n",
       "  align-self: flex-start;\n",
       "  width: 50%;\n",
       "}\n",
       "\n",
       "#sk-container-id-1 div.sk-parallel-item:only-child::after {\n",
       "  width: 0;\n",
       "}\n",
       "\n",
       "/* Serial-specific style estimator block */\n",
       "\n",
       "#sk-container-id-1 div.sk-serial {\n",
       "  display: flex;\n",
       "  flex-direction: column;\n",
       "  align-items: center;\n",
       "  background-color: var(--sklearn-color-background);\n",
       "  padding-right: 1em;\n",
       "  padding-left: 1em;\n",
       "}\n",
       "\n",
       "\n",
       "/* Toggleable style: style used for estimator/Pipeline/ColumnTransformer box that is\n",
       "clickable and can be expanded/collapsed.\n",
       "- Pipeline and ColumnTransformer use this feature and define the default style\n",
       "- Estimators will overwrite some part of the style using the `sk-estimator` class\n",
       "*/\n",
       "\n",
       "/* Pipeline and ColumnTransformer style (default) */\n",
       "\n",
       "#sk-container-id-1 div.sk-toggleable {\n",
       "  /* Default theme specific background. It is overwritten whether we have a\n",
       "  specific estimator or a Pipeline/ColumnTransformer */\n",
       "  background-color: var(--sklearn-color-background);\n",
       "}\n",
       "\n",
       "/* Toggleable label */\n",
       "#sk-container-id-1 label.sk-toggleable__label {\n",
       "  cursor: pointer;\n",
       "  display: block;\n",
       "  width: 100%;\n",
       "  margin-bottom: 0;\n",
       "  padding: 0.5em;\n",
       "  box-sizing: border-box;\n",
       "  text-align: center;\n",
       "}\n",
       "\n",
       "#sk-container-id-1 label.sk-toggleable__label-arrow:before {\n",
       "  /* Arrow on the left of the label */\n",
       "  content: \"▸\";\n",
       "  float: left;\n",
       "  margin-right: 0.25em;\n",
       "  color: var(--sklearn-color-icon);\n",
       "}\n",
       "\n",
       "#sk-container-id-1 label.sk-toggleable__label-arrow:hover:before {\n",
       "  color: var(--sklearn-color-text);\n",
       "}\n",
       "\n",
       "/* Toggleable content - dropdown */\n",
       "\n",
       "#sk-container-id-1 div.sk-toggleable__content {\n",
       "  max-height: 0;\n",
       "  max-width: 0;\n",
       "  overflow: hidden;\n",
       "  text-align: left;\n",
       "  /* unfitted */\n",
       "  background-color: var(--sklearn-color-unfitted-level-0);\n",
       "}\n",
       "\n",
       "#sk-container-id-1 div.sk-toggleable__content.fitted {\n",
       "  /* fitted */\n",
       "  background-color: var(--sklearn-color-fitted-level-0);\n",
       "}\n",
       "\n",
       "#sk-container-id-1 div.sk-toggleable__content pre {\n",
       "  margin: 0.2em;\n",
       "  border-radius: 0.25em;\n",
       "  color: var(--sklearn-color-text);\n",
       "  /* unfitted */\n",
       "  background-color: var(--sklearn-color-unfitted-level-0);\n",
       "}\n",
       "\n",
       "#sk-container-id-1 div.sk-toggleable__content.fitted pre {\n",
       "  /* unfitted */\n",
       "  background-color: var(--sklearn-color-fitted-level-0);\n",
       "}\n",
       "\n",
       "#sk-container-id-1 input.sk-toggleable__control:checked~div.sk-toggleable__content {\n",
       "  /* Expand drop-down */\n",
       "  max-height: 200px;\n",
       "  max-width: 100%;\n",
       "  overflow: auto;\n",
       "}\n",
       "\n",
       "#sk-container-id-1 input.sk-toggleable__control:checked~label.sk-toggleable__label-arrow:before {\n",
       "  content: \"▾\";\n",
       "}\n",
       "\n",
       "/* Pipeline/ColumnTransformer-specific style */\n",
       "\n",
       "#sk-container-id-1 div.sk-label input.sk-toggleable__control:checked~label.sk-toggleable__label {\n",
       "  color: var(--sklearn-color-text);\n",
       "  background-color: var(--sklearn-color-unfitted-level-2);\n",
       "}\n",
       "\n",
       "#sk-container-id-1 div.sk-label.fitted input.sk-toggleable__control:checked~label.sk-toggleable__label {\n",
       "  background-color: var(--sklearn-color-fitted-level-2);\n",
       "}\n",
       "\n",
       "/* Estimator-specific style */\n",
       "\n",
       "/* Colorize estimator box */\n",
       "#sk-container-id-1 div.sk-estimator input.sk-toggleable__control:checked~label.sk-toggleable__label {\n",
       "  /* unfitted */\n",
       "  background-color: var(--sklearn-color-unfitted-level-2);\n",
       "}\n",
       "\n",
       "#sk-container-id-1 div.sk-estimator.fitted input.sk-toggleable__control:checked~label.sk-toggleable__label {\n",
       "  /* fitted */\n",
       "  background-color: var(--sklearn-color-fitted-level-2);\n",
       "}\n",
       "\n",
       "#sk-container-id-1 div.sk-label label.sk-toggleable__label,\n",
       "#sk-container-id-1 div.sk-label label {\n",
       "  /* The background is the default theme color */\n",
       "  color: var(--sklearn-color-text-on-default-background);\n",
       "}\n",
       "\n",
       "/* On hover, darken the color of the background */\n",
       "#sk-container-id-1 div.sk-label:hover label.sk-toggleable__label {\n",
       "  color: var(--sklearn-color-text);\n",
       "  background-color: var(--sklearn-color-unfitted-level-2);\n",
       "}\n",
       "\n",
       "/* Label box, darken color on hover, fitted */\n",
       "#sk-container-id-1 div.sk-label.fitted:hover label.sk-toggleable__label.fitted {\n",
       "  color: var(--sklearn-color-text);\n",
       "  background-color: var(--sklearn-color-fitted-level-2);\n",
       "}\n",
       "\n",
       "/* Estimator label */\n",
       "\n",
       "#sk-container-id-1 div.sk-label label {\n",
       "  font-family: monospace;\n",
       "  font-weight: bold;\n",
       "  display: inline-block;\n",
       "  line-height: 1.2em;\n",
       "}\n",
       "\n",
       "#sk-container-id-1 div.sk-label-container {\n",
       "  text-align: center;\n",
       "}\n",
       "\n",
       "/* Estimator-specific */\n",
       "#sk-container-id-1 div.sk-estimator {\n",
       "  font-family: monospace;\n",
       "  border: 1px dotted var(--sklearn-color-border-box);\n",
       "  border-radius: 0.25em;\n",
       "  box-sizing: border-box;\n",
       "  margin-bottom: 0.5em;\n",
       "  /* unfitted */\n",
       "  background-color: var(--sklearn-color-unfitted-level-0);\n",
       "}\n",
       "\n",
       "#sk-container-id-1 div.sk-estimator.fitted {\n",
       "  /* fitted */\n",
       "  background-color: var(--sklearn-color-fitted-level-0);\n",
       "}\n",
       "\n",
       "/* on hover */\n",
       "#sk-container-id-1 div.sk-estimator:hover {\n",
       "  /* unfitted */\n",
       "  background-color: var(--sklearn-color-unfitted-level-2);\n",
       "}\n",
       "\n",
       "#sk-container-id-1 div.sk-estimator.fitted:hover {\n",
       "  /* fitted */\n",
       "  background-color: var(--sklearn-color-fitted-level-2);\n",
       "}\n",
       "\n",
       "/* Specification for estimator info (e.g. \"i\" and \"?\") */\n",
       "\n",
       "/* Common style for \"i\" and \"?\" */\n",
       "\n",
       ".sk-estimator-doc-link,\n",
       "a:link.sk-estimator-doc-link,\n",
       "a:visited.sk-estimator-doc-link {\n",
       "  float: right;\n",
       "  font-size: smaller;\n",
       "  line-height: 1em;\n",
       "  font-family: monospace;\n",
       "  background-color: var(--sklearn-color-background);\n",
       "  border-radius: 1em;\n",
       "  height: 1em;\n",
       "  width: 1em;\n",
       "  text-decoration: none !important;\n",
       "  margin-left: 1ex;\n",
       "  /* unfitted */\n",
       "  border: var(--sklearn-color-unfitted-level-1) 1pt solid;\n",
       "  color: var(--sklearn-color-unfitted-level-1);\n",
       "}\n",
       "\n",
       ".sk-estimator-doc-link.fitted,\n",
       "a:link.sk-estimator-doc-link.fitted,\n",
       "a:visited.sk-estimator-doc-link.fitted {\n",
       "  /* fitted */\n",
       "  border: var(--sklearn-color-fitted-level-1) 1pt solid;\n",
       "  color: var(--sklearn-color-fitted-level-1);\n",
       "}\n",
       "\n",
       "/* On hover */\n",
       "div.sk-estimator:hover .sk-estimator-doc-link:hover,\n",
       ".sk-estimator-doc-link:hover,\n",
       "div.sk-label-container:hover .sk-estimator-doc-link:hover,\n",
       ".sk-estimator-doc-link:hover {\n",
       "  /* unfitted */\n",
       "  background-color: var(--sklearn-color-unfitted-level-3);\n",
       "  color: var(--sklearn-color-background);\n",
       "  text-decoration: none;\n",
       "}\n",
       "\n",
       "div.sk-estimator.fitted:hover .sk-estimator-doc-link.fitted:hover,\n",
       ".sk-estimator-doc-link.fitted:hover,\n",
       "div.sk-label-container:hover .sk-estimator-doc-link.fitted:hover,\n",
       ".sk-estimator-doc-link.fitted:hover {\n",
       "  /* fitted */\n",
       "  background-color: var(--sklearn-color-fitted-level-3);\n",
       "  color: var(--sklearn-color-background);\n",
       "  text-decoration: none;\n",
       "}\n",
       "\n",
       "/* Span, style for the box shown on hovering the info icon */\n",
       ".sk-estimator-doc-link span {\n",
       "  display: none;\n",
       "  z-index: 9999;\n",
       "  position: relative;\n",
       "  font-weight: normal;\n",
       "  right: .2ex;\n",
       "  padding: .5ex;\n",
       "  margin: .5ex;\n",
       "  width: min-content;\n",
       "  min-width: 20ex;\n",
       "  max-width: 50ex;\n",
       "  color: var(--sklearn-color-text);\n",
       "  box-shadow: 2pt 2pt 4pt #999;\n",
       "  /* unfitted */\n",
       "  background: var(--sklearn-color-unfitted-level-0);\n",
       "  border: .5pt solid var(--sklearn-color-unfitted-level-3);\n",
       "}\n",
       "\n",
       ".sk-estimator-doc-link.fitted span {\n",
       "  /* fitted */\n",
       "  background: var(--sklearn-color-fitted-level-0);\n",
       "  border: var(--sklearn-color-fitted-level-3);\n",
       "}\n",
       "\n",
       ".sk-estimator-doc-link:hover span {\n",
       "  display: block;\n",
       "}\n",
       "\n",
       "/* \"?\"-specific style due to the `<a>` HTML tag */\n",
       "\n",
       "#sk-container-id-1 a.estimator_doc_link {\n",
       "  float: right;\n",
       "  font-size: 1rem;\n",
       "  line-height: 1em;\n",
       "  font-family: monospace;\n",
       "  background-color: var(--sklearn-color-background);\n",
       "  border-radius: 1rem;\n",
       "  height: 1rem;\n",
       "  width: 1rem;\n",
       "  text-decoration: none;\n",
       "  /* unfitted */\n",
       "  color: var(--sklearn-color-unfitted-level-1);\n",
       "  border: var(--sklearn-color-unfitted-level-1) 1pt solid;\n",
       "}\n",
       "\n",
       "#sk-container-id-1 a.estimator_doc_link.fitted {\n",
       "  /* fitted */\n",
       "  border: var(--sklearn-color-fitted-level-1) 1pt solid;\n",
       "  color: var(--sklearn-color-fitted-level-1);\n",
       "}\n",
       "\n",
       "/* On hover */\n",
       "#sk-container-id-1 a.estimator_doc_link:hover {\n",
       "  /* unfitted */\n",
       "  background-color: var(--sklearn-color-unfitted-level-3);\n",
       "  color: var(--sklearn-color-background);\n",
       "  text-decoration: none;\n",
       "}\n",
       "\n",
       "#sk-container-id-1 a.estimator_doc_link.fitted:hover {\n",
       "  /* fitted */\n",
       "  background-color: var(--sklearn-color-fitted-level-3);\n",
       "}\n",
       "</style><div id=\"sk-container-id-1\" class=\"sk-top-container\"><div class=\"sk-text-repr-fallback\"><pre>GridSearchCV(cv=5, estimator=BernoulliNB(),\n",
       "             param_grid={&#x27;alpha&#x27;: [0.01, 0.1, 0.5, 1.0]},\n",
       "             scoring=make_scorer(f1_score, response_method=&#x27;predict&#x27;, pos_label=Spam))</pre><b>In a Jupyter environment, please rerun this cell to show the HTML representation or trust the notebook. <br />On GitHub, the HTML representation is unable to render, please try loading this page with nbviewer.org.</b></div><div class=\"sk-container\" hidden><div class=\"sk-item sk-dashed-wrapped\"><div class=\"sk-label-container\"><div class=\"sk-label fitted sk-toggleable\"><input class=\"sk-toggleable__control sk-hidden--visually\" id=\"sk-estimator-id-1\" type=\"checkbox\" ><label for=\"sk-estimator-id-1\" class=\"sk-toggleable__label fitted sk-toggleable__label-arrow fitted\">&nbsp;&nbsp;GridSearchCV<a class=\"sk-estimator-doc-link fitted\" rel=\"noreferrer\" target=\"_blank\" href=\"https://scikit-learn.org/1.5/modules/generated/sklearn.model_selection.GridSearchCV.html\">?<span>Documentation for GridSearchCV</span></a><span class=\"sk-estimator-doc-link fitted\">i<span>Fitted</span></span></label><div class=\"sk-toggleable__content fitted\"><pre>GridSearchCV(cv=5, estimator=BernoulliNB(),\n",
       "             param_grid={&#x27;alpha&#x27;: [0.01, 0.1, 0.5, 1.0]},\n",
       "             scoring=make_scorer(f1_score, response_method=&#x27;predict&#x27;, pos_label=Spam))</pre></div> </div></div><div class=\"sk-parallel\"><div class=\"sk-parallel-item\"><div class=\"sk-item\"><div class=\"sk-label-container\"><div class=\"sk-label fitted sk-toggleable\"><input class=\"sk-toggleable__control sk-hidden--visually\" id=\"sk-estimator-id-2\" type=\"checkbox\" ><label for=\"sk-estimator-id-2\" class=\"sk-toggleable__label fitted sk-toggleable__label-arrow fitted\">best_estimator_: BernoulliNB</label><div class=\"sk-toggleable__content fitted\"><pre>BernoulliNB()</pre></div> </div></div><div class=\"sk-serial\"><div class=\"sk-item\"><div class=\"sk-estimator fitted sk-toggleable\"><input class=\"sk-toggleable__control sk-hidden--visually\" id=\"sk-estimator-id-3\" type=\"checkbox\" ><label for=\"sk-estimator-id-3\" class=\"sk-toggleable__label fitted sk-toggleable__label-arrow fitted\">&nbsp;BernoulliNB<a class=\"sk-estimator-doc-link fitted\" rel=\"noreferrer\" target=\"_blank\" href=\"https://scikit-learn.org/1.5/modules/generated/sklearn.naive_bayes.BernoulliNB.html\">?<span>Documentation for BernoulliNB</span></a></label><div class=\"sk-toggleable__content fitted\"><pre>BernoulliNB()</pre></div> </div></div></div></div></div></div></div></div></div>"
      ],
      "text/plain": [
       "GridSearchCV(cv=5, estimator=BernoulliNB(),\n",
       "             param_grid={'alpha': [0.01, 0.1, 0.5, 1.0]},\n",
       "             scoring=make_scorer(f1_score, response_method='predict', pos_label=Spam))"
      ]
     },
     "execution_count": 20,
     "metadata": {},
     "output_type": "execute_result"
    }
   ],
   "source": [
    "# Ajuste de hiperparámetros con GridSearchCV\n",
    "parameters = {'alpha': [0.01, 0.1, 0.5, 1.0]}\n",
    "nb_clf = BernoulliNB()\n",
    "grid_search = GridSearchCV(nb_clf, parameters, scoring=f1_scorer, cv=5)\n",
    "grid_search.fit(X_train, y_train)"
   ]
  },
  {
   "cell_type": "markdown",
   "id": "7257d01a-981a-4e19-b922-18cf94d4c670",
   "metadata": {},
   "source": [
    "## 📊 Evaluación del Modelo  \n",
    "\n",
    "Después de entrenar el modelo con **Naïve Bayes Bernoulli** y optimizarlo mediante **GridSearchCV**, se procede a evaluar su desempeño en el conjunto de prueba.  \n",
    "\n",
    "---\n",
    "\n",
    "### 🔹 1. Resultados Generales  \n",
    "\n",
    "El modelo ha sido evaluado utilizando diferentes métricas para medir su capacidad de clasificación. Entre los resultados más relevantes, encontramos los siguientes:  \n",
    "\n",
    "- **F1-Score (Spam):** 0.866  \n",
    "- **F1-Score (Ham):** 0.957  \n",
    "- **F1-Score Global:** 0.9115  \n",
    "- **Precisión (Spam):** 0.813  \n",
    "- **Recall (Spam):** 0.926  \n",
    "- **ROC-AUC Score:** 0.978  \n",
    "\n",
    "El **F1-Score Global**, que representa el promedio entre el rendimiento de ambas clases, es **0.9115**, lo que indica un balance adecuado entre precisión y recall.  \n",
    "\n",
    "---\n",
    "\n",
    "### 🔹 2. Análisis del Desempeño  \n",
    "\n",
    "El modelo muestra un excelente desempeño en la clasificación de **correos Ham (legítimos)**, con un **F1-Score de 0.957**. Esto sugiere que el modelo es muy preciso al identificar correos legítimos, minimizando los **falsos positivos**.  \n",
    "\n",
    "En la clasificación de **correos Spam**, el **F1-Score es 0.866**, con una **precisión de 0.813 y un recall de 0.926**. Esto implica que el modelo detecta la mayoría de los correos spam (alta sensibilidad), aunque ocasionalmente clasifica erróneamente algunos correos legítimos como spam.  \n",
    "\n",
    "El **ROC-AUC Score de 0.978** indica que el modelo tiene una gran capacidad de discriminación entre correos legítimos y spam.  \n",
    "\n",
    "---\n",
    "\n",
    "### 🔹 3. Matriz de Confusión  \n",
    "\n",
    "La matriz de confusión muestra el desglose de aciertos y errores en la clasificación:  \n",
    "\n",
    "|   | Predicción: Ham | Predicción: Spam |  \n",
    "|---|---------------|---------------|  \n",
    "| **Real: Ham** | 19,157 | 1,285 |  \n",
    "| **Real: Spam** | 451 | 5,604 |  \n",
    "\n",
    "- **1,285 correos Ham fueron clasificados erróneamente como Spam (falsos positivos).**  \n",
    "- **451 correos Spam fueron clasificados erróneamente como Ham (falsos negativos).**  \n",
    "\n",
    "Aunque el modelo tiene un buen desempeño general, se podría seguir ajustando para reducir los **falsos positivos**, asegurando que menos correos legítimos sean detectados erróneamente como spam.  \n",
    "\n",
    "---\n",
    "\n",
    "### 🔹 4. Impacto del Tamaño del Dataset  \n",
    "\n",
    "Se han realizado pruebas con distintos tamaños de dataset para analizar su impacto en el rendimiento del modelo:  \n",
    "\n",
    "| Tamaño del dataset | F1-Score (Spam) |  \n",
    "|------------------|-----------------|  \n",
    "| 20,000 correos | 0.894 |  \n",
    "| 50,000 correos | 0.904 |  \n",
    "| 90,000 correos | 0.914 |  \n",
    "| 130,000 correos (spam reducido al 30%) | 0.955 |  \n",
    "| 130,000 correos (spam reducido en 1/3) | 0.957 |  \n",
    "| 150,000 correos (spam reducido a la mitad) | 0.929 |  \n",
    "| 190,000 correos | 0.921 |  \n",
    "\n",
    "El mejor rendimiento se obtiene cuando el dataset tiene **130,000 ejemplos con el conjunto de spam reducido en un tercio**, alcanzando un **F1-Score de 0.957**. Esto sugiere que un **balance adecuado entre Ham y Spam** mejora significativamente la precisión del modelo.  \n",
    "\n",
    "---\n",
    "\n",
    "## 📌 Conclusión  \n",
    "\n",
    "El modelo de **Naïve Bayes Bernoulli** ha demostrado ser efectivo para la clasificación de correos electrónicos en Ham y Spam, con un **F1-Score global de 0.9115** y un **ROC-AUC de 0.978**. La reducción y balanceo del dataset de Spam ha resultado clave para mejorar la precisión y recall del modelo.  \n",
    "\n",
    "Si bien el rendimiento es alto, aún existe margen de mejora para reducir los **falsos positivos** y evitar que correos legítimos sean marcados como spam.  \n",
    "\n"
   ]
  },
  {
   "cell_type": "code",
   "execution_count": 23,
   "id": "8db76f76-2cc2-429d-b278-46508e8a312b",
   "metadata": {},
   "outputs": [],
   "source": [
    "from sklearn.metrics import roc_auc_score, precision_score, recall_score, confusion_matrix\n"
   ]
  },
  {
   "cell_type": "code",
   "execution_count": 21,
   "id": "471e26fe-e0a3-41dd-b4db-908b01bf5724",
   "metadata": {},
   "outputs": [
    {
     "name": "stdout",
     "output_type": "stream",
     "text": [
      "F1 score: 0.957\n"
     ]
    }
   ],
   "source": [
    "# Predicción y evaluación (clase Ham)\n",
    "best_model = grid_search.best_estimator_\n",
    "y_pred = best_model.predict(X_test)\n",
    "print('F1 score(clase positiva): {:.3f}'.format(f1_score(y_test, y_pred, pos_label='Ham')))"
   ]
  },
  {
   "cell_type": "code",
   "execution_count": 22,
   "id": "ace8810d-63c5-4e72-898a-51fc9373a6c4",
   "metadata": {},
   "outputs": [
    {
     "data": {
      "text/plain": [
       "'metricas = {\\n    \"20k\": 0.894,\\n    \"50k\": 0.904,\\n    \"90k\": 0.914,\\n    \"130k\": 0.955 con 0.3 de spam\\n    \"130k\": 0.957 pero con el ds dividido entre 3 \\n    \"150k\" 0.929 con la mitad del dataset de spam,\\n    \"190k\": 0.921\\n   }'"
      ]
     },
     "execution_count": 22,
     "metadata": {},
     "output_type": "execute_result"
    }
   ],
   "source": [
    "# Clase positiva\n",
    "\n",
    "\"\"\"metricas = {\n",
    "    \"20k\": 0.894,\n",
    "    \"50k\": 0.904,\n",
    "    \"90k\": 0.914,\n",
    "    \"130k\": 0.955 con 0.3 de spam\n",
    "    \"130k\": 0.957 pero con el ds dividido entre 3 \n",
    "    \"150k\" 0.929 con la mitad del dataset de spam,\n",
    "    \"190k\": 0.921\n",
    "   }\"\"\" "
   ]
  },
  {
   "cell_type": "code",
   "execution_count": 24,
   "id": "41e8ded0-0711-4dff-916f-2d44ac8e3e6a",
   "metadata": {},
   "outputs": [],
   "source": [
    "# Predicciones y métricas de evaluación en el conjunto de prueba (clase Spam)\n",
    "y_pred = best_model.predict(X_test)\n",
    "y_pred_proba = best_model.predict_proba(X_test)[:, 1]  # Probabilidades para la clase Spam\n"
   ]
  },
  {
   "cell_type": "code",
   "execution_count": 25,
   "id": "b791d7d3-caf3-4166-98eb-b8482a58beb7",
   "metadata": {},
   "outputs": [
    {
     "name": "stdout",
     "output_type": "stream",
     "text": [
      "F1 Score: 0.866\n"
     ]
    }
   ],
   "source": [
    "# F1-Score para evaluar la clase Spam\n",
    "f1 = f1_score(y_test, y_pred, pos_label='Spam')\n",
    "print(f'F1 Score: {f1:.3f}')\n"
   ]
  },
  {
   "cell_type": "code",
   "execution_count": 26,
   "id": "c9822783-9145-4457-a970-0294c4c5ed90",
   "metadata": {},
   "outputs": [
    {
     "name": "stdout",
     "output_type": "stream",
     "text": [
      "Precision: 0.813\n",
      "Recall: 0.926\n"
     ]
    }
   ],
   "source": [
    "# Precision y Recall\n",
    "precision = precision_score(y_test, y_pred, pos_label='Spam')\n",
    "recall = recall_score(y_test, y_pred, pos_label='Spam')\n",
    "print(f'Precision: {precision:.3f}')\n",
    "print(f'Recall: {recall:.3f}')\n"
   ]
  },
  {
   "cell_type": "code",
   "execution_count": 27,
   "id": "b71f3833-e647-45e8-a627-06754b527fae",
   "metadata": {},
   "outputs": [
    {
     "name": "stdout",
     "output_type": "stream",
     "text": [
      "ROC-AUC Score: 0.978\n"
     ]
    }
   ],
   "source": [
    "# ROC-AUC\n",
    "roc_auc = roc_auc_score(y_test.map({'Ham': 0, 'Spam': 1}), y_pred_proba)\n",
    "print(f'ROC-AUC Score: {roc_auc:.3f}')\n"
   ]
  },
  {
   "cell_type": "code",
   "execution_count": 28,
   "id": "0a353e46-5ea1-473a-8a25-9f6400f55ac3",
   "metadata": {},
   "outputs": [
    {
     "name": "stdout",
     "output_type": "stream",
     "text": [
      "Confusion Matrix:\n",
      " [[19157  1285]\n",
      " [  451  5604]]\n"
     ]
    }
   ],
   "source": [
    "# Matriz de confusión\n",
    "cm = confusion_matrix(y_test, y_pred, labels=['Ham', 'Spam'])\n",
    "print(\"Confusion Matrix:\\n\", cm)\n"
   ]
  },
  {
   "cell_type": "code",
   "execution_count": 29,
   "id": "42a4e3b5-0e3b-4351-af58-d09f0597cfef",
   "metadata": {},
   "outputs": [
    {
     "data": {
      "image/png": "[encoded data removed]",
      "text/plain": [
       "<Figure size 800x600 with 2 Axes>"
      ]
     },
     "metadata": {},
     "output_type": "display_data"
    }
   ],
   "source": [
    "# Visualizar la matriz de confusión\n",
    "\n",
    "plt.figure(figsize=(8, 6))\n",
    "sn.heatmap(cm, annot=True, fmt='g', cmap='Blues', xticklabels=['Ham', 'Spam'], yticklabels=['Ham', 'Spam'])\n",
    "plt.xlabel(\"Predicted labels\")\n",
    "plt.ylabel(\"True labels\")\n",
    "plt.title(\"Confusion Matrix\")\n",
    "plt.show()"
   ]
  },
  {
   "cell_type": "markdown",
   "id": "f85ec10d-3f4e-4273-8aa7-c03b6d5d26fa",
   "metadata": {},
   "source": [
    "<h2>Exportar el modelo (opcional)</h2>"
   ]
  },
  {
   "cell_type": "code",
   "execution_count": 31,
   "id": "256d470d-6ba8-43b6-bd08-e633e47f7c45",
   "metadata": {},
   "outputs": [
    {
     "data": {
      "text/plain": [
       "['model/tfidf_vectorizer.pkl']"
      ]
     },
     "execution_count": 31,
     "metadata": {},
     "output_type": "execute_result"
    }
   ],
   "source": [
    "import joblib\n",
    "\n",
    "# Guardar el modelo\n",
    "joblib.dump(best_model, 'model/spam_classifier.pkl')\n",
    "# Guardar el vectorizador\n",
    "joblib.dump(vectorizer, 'model/tfidf_vectorizer.pkl')\n"
   ]
  },
  {
   "cell_type": "markdown",
   "id": "b10b8060-1fa8-4b2b-9bca-52e6ee5588f7",
   "metadata": {},
   "source": [
    "<h2>Evaluar en modelo exportado con la fraccion del dataset del 10% </h2>\n",
    "<h3>(opcional)</h3>"
   ]
  },
  {
   "cell_type": "code",
   "execution_count": 40,
   "id": "8c85b73f-c1d7-4fa3-8ba5-221674a3fcdf",
   "metadata": {},
   "outputs": [],
   "source": [
    "# Cargar el modelo y el vectorizador\n",
    "model_classifier = joblib.load('model/spam_classifier.pkl')\n",
    "vectorizer = joblib.load('model/tfidf_vectorizer.pkl')\n"
   ]
  },
  {
   "cell_type": "code",
   "execution_count": 41,
   "id": "ead19b3e-ae90-448f-ba6c-da96482ac96d",
   "metadata": {},
   "outputs": [],
   "source": [
    "# Predicciones en el conjunto de producción\n",
    "y_prod_pred = model_classifier.predict(X_prod)  # Predicciones finales\n",
    "y_prod_pred_proba = model_classifier.predict_proba(X_prod)[:, 1]  # Probabilidades para `Spam`"
   ]
  },
  {
   "cell_type": "code",
   "execution_count": 42,
   "id": "4534b273-0f5c-4010-8150-e89f11cfd143",
   "metadata": {},
   "outputs": [],
   "source": [
    "# Métricas conjuntas (considerando ambas clases: Ham y Spam)\n",
    "roc_auc_prod = roc_auc_score(y_prod.map({'Ham': 0, 'Spam': 1}), y_prod_pred_proba)"
   ]
  },
  {
   "cell_type": "code",
   "execution_count": 43,
   "id": "878aac9a-9c05-41ef-8ca9-b1a7cb1cfeac",
   "metadata": {},
   "outputs": [],
   "source": [
    "# Métricas específicas para la clase `Spam`\n",
    "f1_prod_spam = f1_score(y_prod, y_prod_pred, pos_label='Spam')\n",
    "precision_prod_spam = precision_score(y_prod, y_prod_pred, pos_label='Spam')\n",
    "recall_prod_spam = recall_score(y_prod, y_prod_pred, pos_label='Spam')"
   ]
  },
  {
   "cell_type": "code",
   "execution_count": 44,
   "id": "a3afc864-31ae-47f9-bc97-947e46ec51d8",
   "metadata": {},
   "outputs": [],
   "source": [
    "# Métricas específicas para la clase `Ham`\n",
    "f1_prod_ham = f1_score(y_prod, y_prod_pred, pos_label='Ham')\n",
    "precision_prod_ham = precision_score(y_prod, y_prod_pred, pos_label='Ham')\n",
    "recall_prod_ham = recall_score(y_prod, y_prod_pred, pos_label='Ham')"
   ]
  },
  {
   "cell_type": "code",
   "execution_count": 45,
   "id": "9c19cd5c-fc51-48a2-875a-7a1c3c59ae27",
   "metadata": {},
   "outputs": [],
   "source": [
    "# Matriz de confusión\n",
    "cm_prod = confusion_matrix(y_prod, y_prod_pred, labels=['Ham', 'Spam'])"
   ]
  },
  {
   "cell_type": "code",
   "execution_count": 46,
   "id": "a47600a2-d0cd-4a06-8aa9-eb38be082783",
   "metadata": {
    "scrolled": true
   },
   "outputs": [
    {
     "name": "stdout",
     "output_type": "stream",
     "text": [
      "=== Métricas conjuntas ===\n",
      "ROC-AUC Score (Ambas clases): 0.979\n"
     ]
    }
   ],
   "source": [
    "# Resultados y desglose explícito\n",
    "print(\"=== Métricas conjuntas ===\")\n",
    "print(f\"ROC-AUC Score (Ambas clases): {roc_auc_prod:.3f}\")"
   ]
  },
  {
   "cell_type": "code",
   "execution_count": 47,
   "id": "15f21fe9-da7b-4068-a867-cba2204110a2",
   "metadata": {},
   "outputs": [
    {
     "name": "stdout",
     "output_type": "stream",
     "text": [
      "\n",
      "=== Métricas por clase ===\n",
      "Clase 'Spam':\n",
      "  F1 Score: 0.872\n",
      "  Precisión: 0.822\n",
      "  Recall: 0.928\n"
     ]
    }
   ],
   "source": [
    "print(\"\\n=== Métricas por clase ===\")\n",
    "print(f\"Clase 'Spam':\")\n",
    "print(f\"  F1 Score: {f1_prod_spam:.3f}\")\n",
    "print(f\"  Precisión: {precision_prod_spam:.3f}\")\n",
    "print(f\"  Recall: {recall_prod_spam:.3f}\")"
   ]
  },
  {
   "cell_type": "code",
   "execution_count": 48,
   "id": "baa6dca4-20a9-43e2-b10e-0622e0240e6a",
   "metadata": {},
   "outputs": [
    {
     "name": "stdout",
     "output_type": "stream",
     "text": [
      "\n",
      "Clase 'Ham':\n",
      "  F1 Score: 0.959\n",
      "  Precisión: 0.978\n",
      "  Recall: 0.941\n"
     ]
    }
   ],
   "source": [
    "print(f\"\\nClase 'Ham':\")\n",
    "print(f\"  F1 Score: {f1_prod_ham:.3f}\")\n",
    "print(f\"  Precisión: {precision_prod_ham:.3f}\")\n",
    "print(f\"  Recall: {recall_prod_ham:.3f}\")"
   ]
  },
  {
   "cell_type": "code",
   "execution_count": 49,
   "id": "f3505890-1d3e-4f23-bfe8-024b3a223be7",
   "metadata": {},
   "outputs": [
    {
     "name": "stdout",
     "output_type": "stream",
     "text": [
      "\n",
      "=== Matriz de Confusión ===\n",
      "Matriz de Confusión:\n",
      "[[9599  607]\n",
      " [ 219 2804]]\n",
      "\n",
      "Desglose de la matriz de confusión:\n",
      "  Ham correctamente clasificados (TN): 9599\n",
      "  Ham clasificados como Spam (FP): 607\n",
      "  Spam clasificados como Ham (FN): 219\n",
      "  Spam correctamente clasificados (TP): 2804\n"
     ]
    }
   ],
   "source": [
    "print(\"\\n=== Matriz de Confusión ===\")\n",
    "print(\"Matriz de Confusión:\")\n",
    "print(cm_prod)\n",
    "print(\"\\nDesglose de la matriz de confusión:\")\n",
    "print(f\"  Ham correctamente clasificados (TN): {cm_prod[0][0]}\")\n",
    "print(f\"  Ham clasificados como Spam (FP): {cm_prod[0][1]}\")\n",
    "print(f\"  Spam clasificados como Ham (FN): {cm_prod[1][0]}\")\n",
    "print(f\"  Spam correctamente clasificados (TP): {cm_prod[1][1]}\")"
   ]
  },
  {
   "cell_type": "code",
   "execution_count": 50,
   "id": "127459a4-394c-45d5-b6c7-f1ad1e6fa6eb",
   "metadata": {},
   "outputs": [
    {
     "data": {
      "image/png": "[encoded data removed]",
      "text/plain": [
       "<Figure size 800x600 with 2 Axes>"
      ]
     },
     "metadata": {},
     "output_type": "display_data"
    }
   ],
   "source": [
    "# Visualizar la matriz de confusión\n",
    "plt.figure(figsize=(8, 6))\n",
    "sns.heatmap(cm_prod, annot=True, fmt='d', cmap='Blues', xticklabels=['Ham', 'Spam'], yticklabels=['Ham', 'Spam'])\n",
    "plt.xlabel(\"Etiquetas Predichas\")\n",
    "plt.ylabel(\"Etiquetas Reales\")\n",
    "plt.title(\"Matriz de Confusión\")\n",
    "plt.show()"
   ]
  }
 ],
 "metadata": {
  "kernelspec": {
   "display_name": "Python 3 (ipykernel)",
   "language": "python",
   "name": "python3"
  },
  "language_info": {
   "codemirror_mode": {
    "name": "ipython",
    "version": 3
   },
   "file_extension": ".py",
   "mimetype": "text/x-python",
   "name": "python",
   "nbconvert_exporter": "python",
   "pygments_lexer": "ipython3",
   "version": "3.12.7"
  }
 },
 "nbformat": 4,
 "nbformat_minor": 5
}
